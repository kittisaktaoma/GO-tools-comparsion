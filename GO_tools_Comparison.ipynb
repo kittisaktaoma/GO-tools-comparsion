{
  "nbformat": 4,
  "nbformat_minor": 0,
  "metadata": {
    "colab": {
      "name": "GO-tools-Comparison.ipynb",
      "provenance": [],
      "toc_visible": true,
      "authorship_tag": "ABX9TyNGHhLlyS4Gt3QNFOkXT8dL",
      "include_colab_link": true
    },
    "kernelspec": {
      "name": "ir",
      "display_name": "R"
    }
  },
  "cells": [
    {
      "cell_type": "markdown",
      "metadata": {
        "id": "view-in-github",
        "colab_type": "text"
      },
      "source": [
        "<a href=\"https://colab.research.google.com/github/kittisaktaoma/GO-tools-comparsion/blob/master/GO_tools_Comparison.ipynb\" target=\"_parent\"><img src=\"https://colab.research.google.com/assets/colab-badge.svg\" alt=\"Open In Colab\"/></a>"
      ]
    },
    {
      "cell_type": "code",
      "metadata": {
        "id": "trvcSXRiNRRw",
        "colab_type": "code",
        "colab": {}
      },
      "source": [
        "library(ggplot2)\n",
        "library(data.table)\n",
        "library(xlsx)\n",
        "library(factoextra)\n",
        "library(dplyr)\n",
        "library(data.table)\n",
        "library(corrplot)\n",
        "library(RColorBrewer)\n",
        "library(Hmisc)\n",
        "library(ggrepel)\n",
        "library(ComplexHeatmap)\n",
        "#library(moments)\n",
        "library(devtools)\n",
        "library(dplyr)\n",
        "\n"
      ],
      "execution_count": null,
      "outputs": []
    },
    {
      "cell_type": "code",
      "metadata": {
        "id": "4c_AeuSxRmVU",
        "colab_type": "code",
        "colab": {
          "base_uri": "https://localhost:8080/",
          "height": 204
        },
        "outputId": "4c14907f-6c08-4add-9a46-5d2262da5793"
      },
      "source": [
        "df <- fread(\"https://raw.githubusercontent.com/kittisaktaoma/GO-tools-comparsion/master/res/Enrichment_01.txt\")\n",
        "head(df)"
      ],
      "execution_count": 29,
      "outputs": [
        {
          "output_type": "display_data",
          "data": {
            "text/plain": [
              "  GOID       Description                                            FDR  \n",
              "1 GO:0007010 cytoskeleton organization                              0.894\n",
              "2 GO:0007010 cytoskeleton organization                              0.894\n",
              "3 GO:0007010 cytoskeleton organization                              0.894\n",
              "4 GO:0090090 negative regulation of canonical Wnt signaling pathway 0.885\n",
              "5 GO:0090090 negative regulation of canonical Wnt signaling pathway 0.885\n",
              "6 GO:0090090 negative regulation of canonical Wnt signaling pathway 0.885\n",
              "  Database Type Genes  Enrichment        Group\n",
              "1 DAVID    BP   TUBAL3 All (Up vs. Down) EGCG \n",
              "2 DAVID    BP   ACTL6B All (Up vs. Down) EGCG \n",
              "3 DAVID    BP   TUBB6  All (Up vs. Down) EGCG \n",
              "4 DAVID    BP   CAV1   All (Up vs. Down) EGCG \n",
              "5 DAVID    BP   PSMC4  All (Up vs. Down) EGCG \n",
              "6 DAVID    BP   PSMA5  All (Up vs. Down) EGCG "
            ],
            "text/latex": "A data.table: 6 × 8\n\\begin{tabular}{llllllll}\n GOID & Description & FDR & Database & Type & Genes & Enrichment & Group\\\\\n <chr> & <chr> & <dbl> & <chr> & <chr> & <chr> & <chr> & <chr>\\\\\n\\hline\n\t GO:0007010 & cytoskeleton organization                              & 0.894 & DAVID & BP & TUBAL3 & All (Up vs. Down) & EGCG\\\\\n\t GO:0007010 & cytoskeleton organization                              & 0.894 & DAVID & BP & ACTL6B & All (Up vs. Down) & EGCG\\\\\n\t GO:0007010 & cytoskeleton organization                              & 0.894 & DAVID & BP & TUBB6  & All (Up vs. Down) & EGCG\\\\\n\t GO:0090090 & negative regulation of canonical Wnt signaling pathway & 0.885 & DAVID & BP & CAV1   & All (Up vs. Down) & EGCG\\\\\n\t GO:0090090 & negative regulation of canonical Wnt signaling pathway & 0.885 & DAVID & BP & PSMC4  & All (Up vs. Down) & EGCG\\\\\n\t GO:0090090 & negative regulation of canonical Wnt signaling pathway & 0.885 & DAVID & BP & PSMA5  & All (Up vs. Down) & EGCG\\\\\n\\end{tabular}\n",
            "text/markdown": "\nA data.table: 6 × 8\n\n| GOID &lt;chr&gt; | Description &lt;chr&gt; | FDR &lt;dbl&gt; | Database &lt;chr&gt; | Type &lt;chr&gt; | Genes &lt;chr&gt; | Enrichment &lt;chr&gt; | Group &lt;chr&gt; |\n|---|---|---|---|---|---|---|---|\n| GO:0007010 | cytoskeleton organization                              | 0.894 | DAVID | BP | TUBAL3 | All (Up vs. Down) | EGCG |\n| GO:0007010 | cytoskeleton organization                              | 0.894 | DAVID | BP | ACTL6B | All (Up vs. Down) | EGCG |\n| GO:0007010 | cytoskeleton organization                              | 0.894 | DAVID | BP | TUBB6  | All (Up vs. Down) | EGCG |\n| GO:0090090 | negative regulation of canonical Wnt signaling pathway | 0.885 | DAVID | BP | CAV1   | All (Up vs. Down) | EGCG |\n| GO:0090090 | negative regulation of canonical Wnt signaling pathway | 0.885 | DAVID | BP | PSMC4  | All (Up vs. Down) | EGCG |\n| GO:0090090 | negative regulation of canonical Wnt signaling pathway | 0.885 | DAVID | BP | PSMA5  | All (Up vs. Down) | EGCG |\n\n",
            "text/html": [
              "<table>\n",
              "<caption>A data.table: 6 × 8</caption>\n",
              "<thead>\n",
              "\t<tr><th scope=col>GOID</th><th scope=col>Description</th><th scope=col>FDR</th><th scope=col>Database</th><th scope=col>Type</th><th scope=col>Genes</th><th scope=col>Enrichment</th><th scope=col>Group</th></tr>\n",
              "\t<tr><th scope=col>&lt;chr&gt;</th><th scope=col>&lt;chr&gt;</th><th scope=col>&lt;dbl&gt;</th><th scope=col>&lt;chr&gt;</th><th scope=col>&lt;chr&gt;</th><th scope=col>&lt;chr&gt;</th><th scope=col>&lt;chr&gt;</th><th scope=col>&lt;chr&gt;</th></tr>\n",
              "</thead>\n",
              "<tbody>\n",
              "\t<tr><td>GO:0007010</td><td>cytoskeleton organization                             </td><td>0.894</td><td>DAVID</td><td>BP</td><td>TUBAL3</td><td>All (Up vs. Down)</td><td>EGCG</td></tr>\n",
              "\t<tr><td>GO:0007010</td><td>cytoskeleton organization                             </td><td>0.894</td><td>DAVID</td><td>BP</td><td>ACTL6B</td><td>All (Up vs. Down)</td><td>EGCG</td></tr>\n",
              "\t<tr><td>GO:0007010</td><td>cytoskeleton organization                             </td><td>0.894</td><td>DAVID</td><td>BP</td><td>TUBB6 </td><td>All (Up vs. Down)</td><td>EGCG</td></tr>\n",
              "\t<tr><td>GO:0090090</td><td>negative regulation of canonical Wnt signaling pathway</td><td>0.885</td><td>DAVID</td><td>BP</td><td>CAV1  </td><td>All (Up vs. Down)</td><td>EGCG</td></tr>\n",
              "\t<tr><td>GO:0090090</td><td>negative regulation of canonical Wnt signaling pathway</td><td>0.885</td><td>DAVID</td><td>BP</td><td>PSMC4 </td><td>All (Up vs. Down)</td><td>EGCG</td></tr>\n",
              "\t<tr><td>GO:0090090</td><td>negative regulation of canonical Wnt signaling pathway</td><td>0.885</td><td>DAVID</td><td>BP</td><td>PSMA5 </td><td>All (Up vs. Down)</td><td>EGCG</td></tr>\n",
              "</tbody>\n",
              "</table>\n"
            ]
          },
          "metadata": {
            "tags": []
          }
        }
      ]
    },
    {
      "cell_type": "code",
      "metadata": {
        "id": "Z44REXErVQQ_",
        "colab_type": "code",
        "colab": {
          "base_uri": "https://localhost:8080/",
          "height": 204
        },
        "outputId": "6fb693b9-605e-4414-b9f4-9471bc3279c0"
      },
      "source": [
        "df_01 <- df %>% filter(.,Enrichment == \"All (Up vs. Down)\")\n",
        "head(df_01)"
      ],
      "execution_count": 27,
      "outputs": [
        {
          "output_type": "display_data",
          "data": {
            "text/plain": [
              "  GOID       Description                                            FDR  \n",
              "1 GO:0007010 cytoskeleton organization                              0.894\n",
              "2 GO:0007010 cytoskeleton organization                              0.894\n",
              "3 GO:0007010 cytoskeleton organization                              0.894\n",
              "4 GO:0090090 negative regulation of canonical Wnt signaling pathway 0.885\n",
              "5 GO:0090090 negative regulation of canonical Wnt signaling pathway 0.885\n",
              "6 GO:0090090 negative regulation of canonical Wnt signaling pathway 0.885\n",
              "  Database Type Genes  Enrichment        Group\n",
              "1 DAVID    BP   TUBAL3 All (Up vs. Down) EGCG \n",
              "2 DAVID    BP   ACTL6B All (Up vs. Down) EGCG \n",
              "3 DAVID    BP   TUBB6  All (Up vs. Down) EGCG \n",
              "4 DAVID    BP   CAV1   All (Up vs. Down) EGCG \n",
              "5 DAVID    BP   PSMC4  All (Up vs. Down) EGCG \n",
              "6 DAVID    BP   PSMA5  All (Up vs. Down) EGCG "
            ],
            "text/latex": "A data.table: 6 × 8\n\\begin{tabular}{llllllll}\n GOID & Description & FDR & Database & Type & Genes & Enrichment & Group\\\\\n <chr> & <chr> & <dbl> & <chr> & <chr> & <chr> & <chr> & <chr>\\\\\n\\hline\n\t GO:0007010 & cytoskeleton organization                              & 0.894 & DAVID & BP & TUBAL3 & All (Up vs. Down) & EGCG\\\\\n\t GO:0007010 & cytoskeleton organization                              & 0.894 & DAVID & BP & ACTL6B & All (Up vs. Down) & EGCG\\\\\n\t GO:0007010 & cytoskeleton organization                              & 0.894 & DAVID & BP & TUBB6  & All (Up vs. Down) & EGCG\\\\\n\t GO:0090090 & negative regulation of canonical Wnt signaling pathway & 0.885 & DAVID & BP & CAV1   & All (Up vs. Down) & EGCG\\\\\n\t GO:0090090 & negative regulation of canonical Wnt signaling pathway & 0.885 & DAVID & BP & PSMC4  & All (Up vs. Down) & EGCG\\\\\n\t GO:0090090 & negative regulation of canonical Wnt signaling pathway & 0.885 & DAVID & BP & PSMA5  & All (Up vs. Down) & EGCG\\\\\n\\end{tabular}\n",
            "text/markdown": "\nA data.table: 6 × 8\n\n| GOID &lt;chr&gt; | Description &lt;chr&gt; | FDR &lt;dbl&gt; | Database &lt;chr&gt; | Type &lt;chr&gt; | Genes &lt;chr&gt; | Enrichment &lt;chr&gt; | Group &lt;chr&gt; |\n|---|---|---|---|---|---|---|---|\n| GO:0007010 | cytoskeleton organization                              | 0.894 | DAVID | BP | TUBAL3 | All (Up vs. Down) | EGCG |\n| GO:0007010 | cytoskeleton organization                              | 0.894 | DAVID | BP | ACTL6B | All (Up vs. Down) | EGCG |\n| GO:0007010 | cytoskeleton organization                              | 0.894 | DAVID | BP | TUBB6  | All (Up vs. Down) | EGCG |\n| GO:0090090 | negative regulation of canonical Wnt signaling pathway | 0.885 | DAVID | BP | CAV1   | All (Up vs. Down) | EGCG |\n| GO:0090090 | negative regulation of canonical Wnt signaling pathway | 0.885 | DAVID | BP | PSMC4  | All (Up vs. Down) | EGCG |\n| GO:0090090 | negative regulation of canonical Wnt signaling pathway | 0.885 | DAVID | BP | PSMA5  | All (Up vs. Down) | EGCG |\n\n",
            "text/html": [
              "<table>\n",
              "<caption>A data.table: 6 × 8</caption>\n",
              "<thead>\n",
              "\t<tr><th scope=col>GOID</th><th scope=col>Description</th><th scope=col>FDR</th><th scope=col>Database</th><th scope=col>Type</th><th scope=col>Genes</th><th scope=col>Enrichment</th><th scope=col>Group</th></tr>\n",
              "\t<tr><th scope=col>&lt;chr&gt;</th><th scope=col>&lt;chr&gt;</th><th scope=col>&lt;dbl&gt;</th><th scope=col>&lt;chr&gt;</th><th scope=col>&lt;chr&gt;</th><th scope=col>&lt;chr&gt;</th><th scope=col>&lt;chr&gt;</th><th scope=col>&lt;chr&gt;</th></tr>\n",
              "</thead>\n",
              "<tbody>\n",
              "\t<tr><td>GO:0007010</td><td>cytoskeleton organization                             </td><td>0.894</td><td>DAVID</td><td>BP</td><td>TUBAL3</td><td>All (Up vs. Down)</td><td>EGCG</td></tr>\n",
              "\t<tr><td>GO:0007010</td><td>cytoskeleton organization                             </td><td>0.894</td><td>DAVID</td><td>BP</td><td>ACTL6B</td><td>All (Up vs. Down)</td><td>EGCG</td></tr>\n",
              "\t<tr><td>GO:0007010</td><td>cytoskeleton organization                             </td><td>0.894</td><td>DAVID</td><td>BP</td><td>TUBB6 </td><td>All (Up vs. Down)</td><td>EGCG</td></tr>\n",
              "\t<tr><td>GO:0090090</td><td>negative regulation of canonical Wnt signaling pathway</td><td>0.885</td><td>DAVID</td><td>BP</td><td>CAV1  </td><td>All (Up vs. Down)</td><td>EGCG</td></tr>\n",
              "\t<tr><td>GO:0090090</td><td>negative regulation of canonical Wnt signaling pathway</td><td>0.885</td><td>DAVID</td><td>BP</td><td>PSMC4 </td><td>All (Up vs. Down)</td><td>EGCG</td></tr>\n",
              "\t<tr><td>GO:0090090</td><td>negative regulation of canonical Wnt signaling pathway</td><td>0.885</td><td>DAVID</td><td>BP</td><td>PSMA5 </td><td>All (Up vs. Down)</td><td>EGCG</td></tr>\n",
              "</tbody>\n",
              "</table>\n"
            ]
          },
          "metadata": {
            "tags": []
          }
        }
      ]
    },
    {
      "cell_type": "code",
      "metadata": {
        "id": "5RuNCA1QU5XQ",
        "colab_type": "code",
        "colab": {
          "base_uri": "https://localhost:8080/",
          "height": 1000
        },
        "outputId": "27496dae-94ad-4380-8c55-0b2ac780ede5"
      },
      "source": [
        "# Plot Frequency\n",
        "df_01$Condition <- ifelse(df_01$FDR < 0.05,\"Significant\",\"Non. Significant\")\n",
        "\n",
        "##Count and Plot\n",
        "\n",
        "##Count\n",
        "count <- all[,-6] %>% unique() %>% group_by(Database,Dataset,Type,Condition) %>% dplyr::summarise(count=n()) %>% as.data.frame()\n",
        "resh <- reshape(count, idvar = c(\"Database\",\"Dataset\",\"Condition\"), timevar = \"Type\", direction = \"wide\")\n",
        "resh.01 <-resh[order(resh$Dataset),]\n",
        "names(resh.01) <- c(\"GO enrichment tools\",\n",
        "                    \"Dataset\",\n",
        "                    \"Result\",\n",
        "                    \"Biological process\",\n",
        "                    \"Cellular component\",\n",
        "                    \"Molecular function\")\n",
        "\n",
        "ggtexttable(resh.01, rows = NULL, theme = ttheme(\"classic\"))\n",
        "\n",
        "\n",
        "ggplot(data=count, aes(x=reorder(Database,count), y=count, fill=Condition)) +\n",
        "  geom_bar(stat=\"identity\") +\n",
        "  theme_bw() +\n",
        "  facet_grid(vars(Type), vars(Dataset)) +\n",
        "  theme(axis.text.x = element_text(angle = 45, hjust = 1)) +\n",
        "  labs(fill = \"\") +\n",
        "  xlab(\"GO Enrichment Tools\") +\n",
        "  ylab(\"Frequency\")\n",
        "\n"
      ],
      "execution_count": 24,
      "outputs": [
        {
          "output_type": "display_data",
          "data": {
            "text/plain": [
              "    Var1       Var2 Freq\n",
              "1   GO:0000003 BP    2  \n",
              "2   GO:0000028 BP    6  \n",
              "3   GO:0000086 BP    2  \n",
              "4   GO:0000122 BP    3  \n",
              "5   GO:0000184 BP   14  \n",
              "6   GO:0000278 BP    3  \n",
              "7   GO:0000375 BP    2  \n",
              "8   GO:0000377 BP    2  \n",
              "9   GO:0000380 BP    2  \n",
              "10  GO:0000398 BP    5  \n",
              "11  GO:0000723 BP    2  \n",
              "12  GO:0000956 BP    6  \n",
              "13  GO:0001666 BP    2  \n",
              "14  GO:0001736 BP    2  \n",
              "15  GO:0001738 BP    2  \n",
              "16  GO:0001765 BP    3  \n",
              "17  GO:0001775 BP    5  \n",
              "18  GO:0001824 BP    2  \n",
              "19  GO:0001867 BP    2  \n",
              "20  GO:0001895 BP    7  \n",
              "21  GO:0002009 BP    2  \n",
              "22  GO:0002181 BP   10  \n",
              "23  GO:0002218 BP    2  \n",
              "24  GO:0002220 BP    2  \n",
              "25  GO:0002223 BP    2  \n",
              "26  GO:0002244 BP    2  \n",
              "27  GO:0002252 BP    4  \n",
              "28  GO:0002253 BP    2  \n",
              "29  GO:0002263 BP    4  \n",
              "30  GO:0002274 BP    4  \n",
              "⋮   ⋮          ⋮    ⋮   \n",
              "842 GO:0042975 MF   2   \n",
              "843 GO:0043167 MF   2   \n",
              "844 GO:0043168 MF   5   \n",
              "845 GO:0043398 MF   2   \n",
              "846 GO:0044183 MF   2   \n",
              "847 GO:0044325 MF   2   \n",
              "848 GO:0044548 MF   4   \n",
              "849 GO:0044822 MF   2   \n",
              "850 GO:0044877 MF   2   \n",
              "851 GO:0045182 MF   2   \n",
              "852 GO:0045294 MF   2   \n",
              "853 GO:0045296 MF   2   \n",
              "854 GO:0045569 MF   2   \n",
              "855 GO:0046554 MF   3   \n",
              "856 GO:0046982 MF   2   \n",
              "857 GO:0046983 MF   2   \n",
              "858 GO:0048027 MF   7   \n",
              "859 GO:0048306 MF   4   \n",
              "860 GO:0050839 MF   2   \n",
              "861 GO:0050998 MF   2   \n",
              "862 GO:0051082 MF   8   \n",
              "863 GO:0051575 MF   7   \n",
              "864 GO:0061656 MF   2   \n",
              "865 GO:0070320 MF   2   \n",
              "866 GO:0097159 MF   7   \n",
              "867 GO:0097367 MF   5   \n",
              "868 GO:0098641 MF   3   \n",
              "869 GO:0140297 MF   2   \n",
              "870 GO:1901265 MF   4   \n",
              "871 GO:1901363 MF   7   "
            ],
            "text/latex": "A data.frame: 871 × 3\n\\begin{tabular}{lll}\n Var1 & Var2 & Freq\\\\\n <fct> & <fct> & <int>\\\\\n\\hline\n\t GO:0000003 & BP &  2\\\\\n\t GO:0000028 & BP &  6\\\\\n\t GO:0000086 & BP &  2\\\\\n\t GO:0000122 & BP &  3\\\\\n\t GO:0000184 & BP & 14\\\\\n\t GO:0000278 & BP &  3\\\\\n\t GO:0000375 & BP &  2\\\\\n\t GO:0000377 & BP &  2\\\\\n\t GO:0000380 & BP &  2\\\\\n\t GO:0000398 & BP &  5\\\\\n\t GO:0000723 & BP &  2\\\\\n\t GO:0000956 & BP &  6\\\\\n\t GO:0001666 & BP &  2\\\\\n\t GO:0001736 & BP &  2\\\\\n\t GO:0001738 & BP &  2\\\\\n\t GO:0001765 & BP &  3\\\\\n\t GO:0001775 & BP &  5\\\\\n\t GO:0001824 & BP &  2\\\\\n\t GO:0001867 & BP &  2\\\\\n\t GO:0001895 & BP &  7\\\\\n\t GO:0002009 & BP &  2\\\\\n\t GO:0002181 & BP & 10\\\\\n\t GO:0002218 & BP &  2\\\\\n\t GO:0002220 & BP &  2\\\\\n\t GO:0002223 & BP &  2\\\\\n\t GO:0002244 & BP &  2\\\\\n\t GO:0002252 & BP &  4\\\\\n\t GO:0002253 & BP &  2\\\\\n\t GO:0002263 & BP &  4\\\\\n\t GO:0002274 & BP &  4\\\\\n\t ⋮ & ⋮ & ⋮\\\\\n\t GO:0042975 & MF & 2\\\\\n\t GO:0043167 & MF & 2\\\\\n\t GO:0043168 & MF & 5\\\\\n\t GO:0043398 & MF & 2\\\\\n\t GO:0044183 & MF & 2\\\\\n\t GO:0044325 & MF & 2\\\\\n\t GO:0044548 & MF & 4\\\\\n\t GO:0044822 & MF & 2\\\\\n\t GO:0044877 & MF & 2\\\\\n\t GO:0045182 & MF & 2\\\\\n\t GO:0045294 & MF & 2\\\\\n\t GO:0045296 & MF & 2\\\\\n\t GO:0045569 & MF & 2\\\\\n\t GO:0046554 & MF & 3\\\\\n\t GO:0046982 & MF & 2\\\\\n\t GO:0046983 & MF & 2\\\\\n\t GO:0048027 & MF & 7\\\\\n\t GO:0048306 & MF & 4\\\\\n\t GO:0050839 & MF & 2\\\\\n\t GO:0050998 & MF & 2\\\\\n\t GO:0051082 & MF & 8\\\\\n\t GO:0051575 & MF & 7\\\\\n\t GO:0061656 & MF & 2\\\\\n\t GO:0070320 & MF & 2\\\\\n\t GO:0097159 & MF & 7\\\\\n\t GO:0097367 & MF & 5\\\\\n\t GO:0098641 & MF & 3\\\\\n\t GO:0140297 & MF & 2\\\\\n\t GO:1901265 & MF & 4\\\\\n\t GO:1901363 & MF & 7\\\\\n\\end{tabular}\n",
            "text/markdown": "\nA data.frame: 871 × 3\n\n| Var1 &lt;fct&gt; | Var2 &lt;fct&gt; | Freq &lt;int&gt; |\n|---|---|---|\n| GO:0000003 | BP |  2 |\n| GO:0000028 | BP |  6 |\n| GO:0000086 | BP |  2 |\n| GO:0000122 | BP |  3 |\n| GO:0000184 | BP | 14 |\n| GO:0000278 | BP |  3 |\n| GO:0000375 | BP |  2 |\n| GO:0000377 | BP |  2 |\n| GO:0000380 | BP |  2 |\n| GO:0000398 | BP |  5 |\n| GO:0000723 | BP |  2 |\n| GO:0000956 | BP |  6 |\n| GO:0001666 | BP |  2 |\n| GO:0001736 | BP |  2 |\n| GO:0001738 | BP |  2 |\n| GO:0001765 | BP |  3 |\n| GO:0001775 | BP |  5 |\n| GO:0001824 | BP |  2 |\n| GO:0001867 | BP |  2 |\n| GO:0001895 | BP |  7 |\n| GO:0002009 | BP |  2 |\n| GO:0002181 | BP | 10 |\n| GO:0002218 | BP |  2 |\n| GO:0002220 | BP |  2 |\n| GO:0002223 | BP |  2 |\n| GO:0002244 | BP |  2 |\n| GO:0002252 | BP |  4 |\n| GO:0002253 | BP |  2 |\n| GO:0002263 | BP |  4 |\n| GO:0002274 | BP |  4 |\n| ⋮ | ⋮ | ⋮ |\n| GO:0042975 | MF | 2 |\n| GO:0043167 | MF | 2 |\n| GO:0043168 | MF | 5 |\n| GO:0043398 | MF | 2 |\n| GO:0044183 | MF | 2 |\n| GO:0044325 | MF | 2 |\n| GO:0044548 | MF | 4 |\n| GO:0044822 | MF | 2 |\n| GO:0044877 | MF | 2 |\n| GO:0045182 | MF | 2 |\n| GO:0045294 | MF | 2 |\n| GO:0045296 | MF | 2 |\n| GO:0045569 | MF | 2 |\n| GO:0046554 | MF | 3 |\n| GO:0046982 | MF | 2 |\n| GO:0046983 | MF | 2 |\n| GO:0048027 | MF | 7 |\n| GO:0048306 | MF | 4 |\n| GO:0050839 | MF | 2 |\n| GO:0050998 | MF | 2 |\n| GO:0051082 | MF | 8 |\n| GO:0051575 | MF | 7 |\n| GO:0061656 | MF | 2 |\n| GO:0070320 | MF | 2 |\n| GO:0097159 | MF | 7 |\n| GO:0097367 | MF | 5 |\n| GO:0098641 | MF | 3 |\n| GO:0140297 | MF | 2 |\n| GO:1901265 | MF | 4 |\n| GO:1901363 | MF | 7 |\n\n",
            "text/html": [
              "<table>\n",
              "<caption>A data.frame: 871 × 3</caption>\n",
              "<thead>\n",
              "\t<tr><th scope=col>Var1</th><th scope=col>Var2</th><th scope=col>Freq</th></tr>\n",
              "\t<tr><th scope=col>&lt;fct&gt;</th><th scope=col>&lt;fct&gt;</th><th scope=col>&lt;int&gt;</th></tr>\n",
              "</thead>\n",
              "<tbody>\n",
              "\t<tr><td>GO:0000003</td><td>BP</td><td> 2</td></tr>\n",
              "\t<tr><td>GO:0000028</td><td>BP</td><td> 6</td></tr>\n",
              "\t<tr><td>GO:0000086</td><td>BP</td><td> 2</td></tr>\n",
              "\t<tr><td>GO:0000122</td><td>BP</td><td> 3</td></tr>\n",
              "\t<tr><td>GO:0000184</td><td>BP</td><td>14</td></tr>\n",
              "\t<tr><td>GO:0000278</td><td>BP</td><td> 3</td></tr>\n",
              "\t<tr><td>GO:0000375</td><td>BP</td><td> 2</td></tr>\n",
              "\t<tr><td>GO:0000377</td><td>BP</td><td> 2</td></tr>\n",
              "\t<tr><td>GO:0000380</td><td>BP</td><td> 2</td></tr>\n",
              "\t<tr><td>GO:0000398</td><td>BP</td><td> 5</td></tr>\n",
              "\t<tr><td>GO:0000723</td><td>BP</td><td> 2</td></tr>\n",
              "\t<tr><td>GO:0000956</td><td>BP</td><td> 6</td></tr>\n",
              "\t<tr><td>GO:0001666</td><td>BP</td><td> 2</td></tr>\n",
              "\t<tr><td>GO:0001736</td><td>BP</td><td> 2</td></tr>\n",
              "\t<tr><td>GO:0001738</td><td>BP</td><td> 2</td></tr>\n",
              "\t<tr><td>GO:0001765</td><td>BP</td><td> 3</td></tr>\n",
              "\t<tr><td>GO:0001775</td><td>BP</td><td> 5</td></tr>\n",
              "\t<tr><td>GO:0001824</td><td>BP</td><td> 2</td></tr>\n",
              "\t<tr><td>GO:0001867</td><td>BP</td><td> 2</td></tr>\n",
              "\t<tr><td>GO:0001895</td><td>BP</td><td> 7</td></tr>\n",
              "\t<tr><td>GO:0002009</td><td>BP</td><td> 2</td></tr>\n",
              "\t<tr><td>GO:0002181</td><td>BP</td><td>10</td></tr>\n",
              "\t<tr><td>GO:0002218</td><td>BP</td><td> 2</td></tr>\n",
              "\t<tr><td>GO:0002220</td><td>BP</td><td> 2</td></tr>\n",
              "\t<tr><td>GO:0002223</td><td>BP</td><td> 2</td></tr>\n",
              "\t<tr><td>GO:0002244</td><td>BP</td><td> 2</td></tr>\n",
              "\t<tr><td>GO:0002252</td><td>BP</td><td> 4</td></tr>\n",
              "\t<tr><td>GO:0002253</td><td>BP</td><td> 2</td></tr>\n",
              "\t<tr><td>GO:0002263</td><td>BP</td><td> 4</td></tr>\n",
              "\t<tr><td>GO:0002274</td><td>BP</td><td> 4</td></tr>\n",
              "\t<tr><td>⋮</td><td>⋮</td><td>⋮</td></tr>\n",
              "\t<tr><td>GO:0042975</td><td>MF</td><td>2</td></tr>\n",
              "\t<tr><td>GO:0043167</td><td>MF</td><td>2</td></tr>\n",
              "\t<tr><td>GO:0043168</td><td>MF</td><td>5</td></tr>\n",
              "\t<tr><td>GO:0043398</td><td>MF</td><td>2</td></tr>\n",
              "\t<tr><td>GO:0044183</td><td>MF</td><td>2</td></tr>\n",
              "\t<tr><td>GO:0044325</td><td>MF</td><td>2</td></tr>\n",
              "\t<tr><td>GO:0044548</td><td>MF</td><td>4</td></tr>\n",
              "\t<tr><td>GO:0044822</td><td>MF</td><td>2</td></tr>\n",
              "\t<tr><td>GO:0044877</td><td>MF</td><td>2</td></tr>\n",
              "\t<tr><td>GO:0045182</td><td>MF</td><td>2</td></tr>\n",
              "\t<tr><td>GO:0045294</td><td>MF</td><td>2</td></tr>\n",
              "\t<tr><td>GO:0045296</td><td>MF</td><td>2</td></tr>\n",
              "\t<tr><td>GO:0045569</td><td>MF</td><td>2</td></tr>\n",
              "\t<tr><td>GO:0046554</td><td>MF</td><td>3</td></tr>\n",
              "\t<tr><td>GO:0046982</td><td>MF</td><td>2</td></tr>\n",
              "\t<tr><td>GO:0046983</td><td>MF</td><td>2</td></tr>\n",
              "\t<tr><td>GO:0048027</td><td>MF</td><td>7</td></tr>\n",
              "\t<tr><td>GO:0048306</td><td>MF</td><td>4</td></tr>\n",
              "\t<tr><td>GO:0050839</td><td>MF</td><td>2</td></tr>\n",
              "\t<tr><td>GO:0050998</td><td>MF</td><td>2</td></tr>\n",
              "\t<tr><td>GO:0051082</td><td>MF</td><td>8</td></tr>\n",
              "\t<tr><td>GO:0051575</td><td>MF</td><td>7</td></tr>\n",
              "\t<tr><td>GO:0061656</td><td>MF</td><td>2</td></tr>\n",
              "\t<tr><td>GO:0070320</td><td>MF</td><td>2</td></tr>\n",
              "\t<tr><td>GO:0097159</td><td>MF</td><td>7</td></tr>\n",
              "\t<tr><td>GO:0097367</td><td>MF</td><td>5</td></tr>\n",
              "\t<tr><td>GO:0098641</td><td>MF</td><td>3</td></tr>\n",
              "\t<tr><td>GO:0140297</td><td>MF</td><td>2</td></tr>\n",
              "\t<tr><td>GO:1901265</td><td>MF</td><td>4</td></tr>\n",
              "\t<tr><td>GO:1901363</td><td>MF</td><td>7</td></tr>\n",
              "</tbody>\n",
              "</table>\n"
            ]
          },
          "metadata": {
            "tags": []
          }
        }
      ]
    },
    {
      "cell_type": "code",
      "metadata": {
        "id": "R5q1Aeh1WQKv",
        "colab_type": "code",
        "colab": {}
      },
      "source": [
        ""
      ],
      "execution_count": null,
      "outputs": []
    }
  ]
}