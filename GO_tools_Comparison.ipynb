{
  "nbformat": 4,
  "nbformat_minor": 0,
  "metadata": {
    "colab": {
      "name": "GO-tools-Comparison.ipynb",
      "provenance": [],
      "authorship_tag": "ABX9TyPBw+kovekk9MBAuLmjsKQ5",
      "include_colab_link": true
    },
    "kernelspec": {
      "name": "ir",
      "display_name": "R"
    }
  },
  "cells": [
    {
      "cell_type": "markdown",
      "metadata": {
        "id": "view-in-github",
        "colab_type": "text"
      },
      "source": [
        "<a href=\"https://colab.research.google.com/github/kittisaktaoma/GO-tools-comparsion/blob/master/GO_tools_Comparison.ipynb\" target=\"_parent\"><img src=\"https://colab.research.google.com/assets/colab-badge.svg\" alt=\"Open In Colab\"/></a>"
      ]
    },
    {
      "cell_type": "code",
      "metadata": {
        "id": "trvcSXRiNRRw",
        "colab_type": "code",
        "colab": {}
      },
      "source": [
        "library(ggplot2)\n",
        "#library(data.table)\n",
        "library(xlsx)\n"
      ],
      "execution_count": 4,
      "outputs": []
    },
    {
      "cell_type": "code",
      "metadata": {
        "id": "nBiS7IE0OAdW",
        "colab_type": "code",
        "colab": {
          "base_uri": "https://localhost:8080/",
          "height": 197
        },
        "outputId": "adac2d21-0be0-4fff-b16b-5aa838ce7f0c"
      },
      "source": [
        "#library(factoextra)\n",
        "library(dplyr)\n",
        "#library(data.table)\n",
        "#library(corrplot)\n",
        "library(RColorBrewer)\n",
        "#library(\"Hmisc\")\n",
        "require(\"ggrepel\")\n",
        "library(ComplexHeatmap)\n",
        "library(moments)\n"
      ],
      "execution_count": 13,
      "outputs": [
        {
          "output_type": "stream",
          "text": [
            "Loading required package: ggrepel\n",
            "\n",
            "Warning message in library(package, lib.loc = lib.loc, character.only = TRUE, logical.return = TRUE, :\n",
            "“there is no package called ‘ggrepel’”\n"
          ],
          "name": "stderr"
        },
        {
          "output_type": "error",
          "ename": "ERROR",
          "evalue": "ignored",
          "traceback": [
            "Error in library(ComplexHeatmap): there is no package called ‘ComplexHeatmap’\nTraceback:\n",
            "1. library(ComplexHeatmap)"
          ]
        }
      ]
    },
    {
      "cell_type": "code",
      "metadata": {
        "id": "Y5C9wrRWNaix",
        "colab_type": "code",
        "colab": {
          "base_uri": "https://localhost:8080/",
          "height": 173
        },
        "outputId": "4b0ff546-d3db-45c0-a288-67ab476ad957"
      },
      "source": [
        "install.packages(c(\"data.table\",\"ggpubr\",\"splitstackshape\",\"gridExtra\",\"factoextra\",\"corrplot\",\"Hmisc\",\"ComplexHeatmap\",\"tidyverse\"))"
      ],
      "execution_count": null,
      "outputs": [
        {
          "output_type": "stream",
          "text": [
            "Installing packages into ‘/usr/local/lib/R/site-library’\n",
            "(as ‘lib’ is unspecified)\n",
            "\n",
            "Warning message:\n",
            "“package ‘ComplexHeatmap’ is not available (for R version 3.6.3)”\n",
            "also installing the dependencies ‘matrixStats’, ‘RcppArmadillo’, ‘zip’, ‘SparseM’, ‘MatrixModels’, ‘conquer’, ‘sp’, ‘openxlsx’, ‘minqa’, ‘nloptr’, ‘statmod’, ‘RcppEigen’, ‘carData’, ‘pbkrtest’, ‘quantreg’, ‘maptools’, ‘rio’, ‘lme4’, ‘car’, ‘ellipse’, ‘flashClust’, ‘leaps’, ‘scatterplot3d’, ‘png’, ‘jpeg’, ‘checkmate’, ‘ggrepel’, ‘ggsci’, ‘cowplot’, ‘ggsignif’, ‘polynom’, ‘rstatix’, ‘abind’, ‘dendextend’, ‘FactoMineR’, ‘Formula’, ‘latticeExtra’, ‘acepack’, ‘htmlTable’, ‘viridis’\n",
            "\n",
            "\n"
          ],
          "name": "stderr"
        }
      ]
    }
  ]
}